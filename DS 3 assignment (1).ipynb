{
 "cells": [
  {
   "cell_type": "code",
   "execution_count": 2,
   "id": "c537ec82-4f29-44e7-99a3-991ca96d38ad",
   "metadata": {},
   "outputs": [],
   "source": [
    "#importing libraries\n",
    "import numpy as np\n",
    "from scipy import stats as st\n",
    "import warnings\n",
    "warnings.filterwarnings('ignore')"
   ]
  },
  {
   "cell_type": "markdown",
   "id": "118cb8cc-dd8a-4d19-bf9e-a778131c8845",
   "metadata": {},
   "source": [
    "Question 1:\n",
    "Scenario: A company wants to analyze the sales performance of its products in different regions. They have collected the following data:\n",
    "   Region A: [10, 15, 12, 8, 14]\n",
    "   Region B: [18, 20, 16, 22, 25]\n",
    "   Calculate the mean sales for each region.\n"
   ]
  },
  {
   "cell_type": "code",
   "execution_count": 3,
   "id": "5ac57f08-b0de-4b76-b1b8-387728aebb22",
   "metadata": {},
   "outputs": [
    {
     "name": "stdout",
     "output_type": "stream",
     "text": [
      "11.8 20.2\n"
     ]
    }
   ],
   "source": [
    "A= [10, 15, 12, 8, 14] \n",
    "B= [18, 20, 16, 22, 25] \n",
    "print(np.mean(A), np.mean(B))"
   ]
  },
  {
   "cell_type": "markdown",
   "id": "f5af312a-f748-4c6e-8a7c-17a16d234078",
   "metadata": {},
   "source": [
    "Question 2:\n",
    "A survey is conducted to measure customer satisfaction on a scale of 1 to 5. The data collected is as follows:\n",
    "   [4, 5, 2, 3, 5, 4, 3, 2, 4, 5]\n",
    "   Calculate the mode of the survey responses\n"
   ]
  },
  {
   "cell_type": "code",
   "execution_count": 4,
   "id": "1568c47f-b19f-4990-af0a-b96660a414de",
   "metadata": {},
   "outputs": [
    {
     "data": {
      "text/plain": [
       "ModeResult(mode=array([4]), count=array([3]))"
      ]
     },
     "execution_count": 4,
     "metadata": {},
     "output_type": "execute_result"
    }
   ],
   "source": [
    "a = [4, 5, 2, 3, 5, 4, 3, 2, 4, 5]\n",
    "st.mode(a)"
   ]
  },
  {
   "cell_type": "markdown",
   "id": "d7493a4f-fd74-4174-951f-afa09b18ba40",
   "metadata": {},
   "source": [
    "Question 3:\n",
    "Scenario: A company wants to compare the salaries of two departments. The salary data for Department A and Department B are as follows:\n",
    "   Department A: [5000, 6000, 5500, 7000]\n",
    "   Department B: [4500, 5500, 5800, 6000, 5200]\n",
    "   Calculate the median salary for each department.\n"
   ]
  },
  {
   "cell_type": "code",
   "execution_count": 5,
   "id": "6af34337-d875-4ea6-9e18-86da0cb04c97",
   "metadata": {},
   "outputs": [
    {
     "name": "stdout",
     "output_type": "stream",
     "text": [
      "5750.0\n"
     ]
    },
    {
     "data": {
      "text/plain": [
       "5500.0"
      ]
     },
     "execution_count": 5,
     "metadata": {},
     "output_type": "execute_result"
    }
   ],
   "source": [
    "A= [5000, 6000, 5500, 7000]\n",
    "B= [4500, 5500, 5800, 6000, 5200]\n",
    "print(np.median(A))\n",
    "np.median(B)"
   ]
  },
  {
   "cell_type": "markdown",
   "id": "4aca2212-2778-4996-863f-b31d2896004e",
   "metadata": {},
   "source": [
    "Question 4:\n",
    "A data analyst wants to determine the variability in the daily stock prices of a company. The data collected is as follows:\n",
    "   [25.5, 24.8, 26.1, 25.3, 24.9]\n",
    "   Calculate the range of the stock prices.\n"
   ]
  },
  {
   "cell_type": "code",
   "execution_count": 6,
   "id": "b8529e48-c193-4160-96dc-6900be474214",
   "metadata": {},
   "outputs": [
    {
     "data": {
      "text/plain": [
       "1.3000000000000007"
      ]
     },
     "execution_count": 6,
     "metadata": {},
     "output_type": "execute_result"
    }
   ],
   "source": [
    "A = [25.5, 24.8, 26.1, 25.3, 24.9]\n",
    "A_range = max(A) - min(A)\n",
    "A_range"
   ]
  },
  {
   "cell_type": "markdown",
   "id": "cf79128b-c569-4ee0-b4b7-b79ffae6430c",
   "metadata": {},
   "source": [
    "Question 5:\n",
    "Scenario: A study is conducted to compare the performance of two different teaching methods. The test scores of the students in each group are as follows:\n",
    "   Group A: [85, 90, 92, 88, 91]\n",
    "   Group B: [82, 88, 90, 86, 87]\n",
    "   Perform a t-test to determine if there is a significant difference in the mean scores between the two groups.\n"
   ]
  },
  {
   "cell_type": "code",
   "execution_count": 7,
   "id": "88568c7b-60f0-4068-9b27-220114c9cfed",
   "metadata": {},
   "outputs": [
    {
     "data": {
      "text/plain": [
       "(1.4312528946642733, 0.19023970239078333)"
      ]
     },
     "execution_count": 7,
     "metadata": {},
     "output_type": "execute_result"
    }
   ],
   "source": [
    "A= [85, 90, 92, 88, 91]\n",
    "B= [82, 88, 90, 86, 87]\n",
    "t_test, p_value = st.ttest_ind(A, B)\n",
    "t_test, p_value"
   ]
  },
  {
   "cell_type": "markdown",
   "id": "b7566b84-3369-413f-9039-686470323269",
   "metadata": {},
   "source": [
    "Question 6:\n",
    "Scenario: A company wants to analyze the relationship between advertising expenditure and sales. The data collected is as follows:\n",
    "   Advertising Expenditure (in thousands): [10, 15, 12, 8, 14]\n",
    "   Sales (in thousands): [25, 30, 28, 20, 26]\n",
    "   Calculate the correlation coefficient between advertising expenditure and sales.\n"
   ]
  },
  {
   "cell_type": "code",
   "execution_count": 8,
   "id": "7c28f13a-d594-4fba-90b2-49b2f8865757",
   "metadata": {},
   "outputs": [
    {
     "data": {
      "text/plain": [
       "0.8757511375750132"
      ]
     },
     "execution_count": 8,
     "metadata": {},
     "output_type": "execute_result"
    }
   ],
   "source": [
    "A = [10, 15, 12, 8, 14]\n",
    "B = [25, 30, 28, 20, 26]\n",
    "np.corrcoef(A,B)[1,0]"
   ]
  },
  {
   "cell_type": "markdown",
   "id": "456b4893-e739-4eb0-9be8-1da4176a7103",
   "metadata": {},
   "source": [
    "Question 7:\n",
    "Scenario: A survey is conducted to measure the heights of a group of people. The data collected is as follows:\n",
    "   [160, 170, 165, 155, 175, 180, 170]\n",
    "   Calculate the standard deviation of the heights.\n"
   ]
  },
  {
   "cell_type": "code",
   "execution_count": 9,
   "id": "89a2bbca-5f8d-4031-946b-643e3a96c701",
   "metadata": {},
   "outputs": [
    {
     "data": {
      "text/plain": [
       "7.953949089757174"
      ]
     },
     "execution_count": 9,
     "metadata": {},
     "output_type": "execute_result"
    }
   ],
   "source": [
    "A= [160, 170, 165, 155, 175, 180, 170] \n",
    "np.std(A)"
   ]
  },
  {
   "cell_type": "markdown",
   "id": "8a6109fa-726a-47ec-a11d-c4de2be9c6c8",
   "metadata": {},
   "source": [
    "Question 8:\n",
    "Scenario: A company wants to analyze the relationship between employee tenure and job satisfaction. The data collected is as follows:\n",
    "   Employee Tenure (in years): [2, 3, 5, 4, 6, 2, 4]\n",
    "   Job Satisfaction (on a scale of 1 to 10): [7, 8, 6, 9, 5, 7, 6]\n",
    "   Perform a linear regression analysis to predict job satisfaction based on employee tenure.\n"
   ]
  },
  {
   "cell_type": "code",
   "execution_count": 10,
   "id": "f369c0ed-262d-4f42-8e22-a8e095708ba0",
   "metadata": {},
   "outputs": [
    {
     "data": {
      "text/html": [
       "<style>#sk-container-id-1 {color: black;background-color: white;}#sk-container-id-1 pre{padding: 0;}#sk-container-id-1 div.sk-toggleable {background-color: white;}#sk-container-id-1 label.sk-toggleable__label {cursor: pointer;display: block;width: 100%;margin-bottom: 0;padding: 0.3em;box-sizing: border-box;text-align: center;}#sk-container-id-1 label.sk-toggleable__label-arrow:before {content: \"▸\";float: left;margin-right: 0.25em;color: #696969;}#sk-container-id-1 label.sk-toggleable__label-arrow:hover:before {color: black;}#sk-container-id-1 div.sk-estimator:hover label.sk-toggleable__label-arrow:before {color: black;}#sk-container-id-1 div.sk-toggleable__content {max-height: 0;max-width: 0;overflow: hidden;text-align: left;background-color: #f0f8ff;}#sk-container-id-1 div.sk-toggleable__content pre {margin: 0.2em;color: black;border-radius: 0.25em;background-color: #f0f8ff;}#sk-container-id-1 input.sk-toggleable__control:checked~div.sk-toggleable__content {max-height: 200px;max-width: 100%;overflow: auto;}#sk-container-id-1 input.sk-toggleable__control:checked~label.sk-toggleable__label-arrow:before {content: \"▾\";}#sk-container-id-1 div.sk-estimator input.sk-toggleable__control:checked~label.sk-toggleable__label {background-color: #d4ebff;}#sk-container-id-1 div.sk-label input.sk-toggleable__control:checked~label.sk-toggleable__label {background-color: #d4ebff;}#sk-container-id-1 input.sk-hidden--visually {border: 0;clip: rect(1px 1px 1px 1px);clip: rect(1px, 1px, 1px, 1px);height: 1px;margin: -1px;overflow: hidden;padding: 0;position: absolute;width: 1px;}#sk-container-id-1 div.sk-estimator {font-family: monospace;background-color: #f0f8ff;border: 1px dotted black;border-radius: 0.25em;box-sizing: border-box;margin-bottom: 0.5em;}#sk-container-id-1 div.sk-estimator:hover {background-color: #d4ebff;}#sk-container-id-1 div.sk-parallel-item::after {content: \"\";width: 100%;border-bottom: 1px solid gray;flex-grow: 1;}#sk-container-id-1 div.sk-label:hover label.sk-toggleable__label {background-color: #d4ebff;}#sk-container-id-1 div.sk-serial::before {content: \"\";position: absolute;border-left: 1px solid gray;box-sizing: border-box;top: 0;bottom: 0;left: 50%;z-index: 0;}#sk-container-id-1 div.sk-serial {display: flex;flex-direction: column;align-items: center;background-color: white;padding-right: 0.2em;padding-left: 0.2em;position: relative;}#sk-container-id-1 div.sk-item {position: relative;z-index: 1;}#sk-container-id-1 div.sk-parallel {display: flex;align-items: stretch;justify-content: center;background-color: white;position: relative;}#sk-container-id-1 div.sk-item::before, #sk-container-id-1 div.sk-parallel-item::before {content: \"\";position: absolute;border-left: 1px solid gray;box-sizing: border-box;top: 0;bottom: 0;left: 50%;z-index: -1;}#sk-container-id-1 div.sk-parallel-item {display: flex;flex-direction: column;z-index: 1;position: relative;background-color: white;}#sk-container-id-1 div.sk-parallel-item:first-child::after {align-self: flex-end;width: 50%;}#sk-container-id-1 div.sk-parallel-item:last-child::after {align-self: flex-start;width: 50%;}#sk-container-id-1 div.sk-parallel-item:only-child::after {width: 0;}#sk-container-id-1 div.sk-dashed-wrapped {border: 1px dashed gray;margin: 0 0.4em 0.5em 0.4em;box-sizing: border-box;padding-bottom: 0.4em;background-color: white;}#sk-container-id-1 div.sk-label label {font-family: monospace;font-weight: bold;display: inline-block;line-height: 1.2em;}#sk-container-id-1 div.sk-label-container {text-align: center;}#sk-container-id-1 div.sk-container {/* jupyter's `normalize.less` sets `[hidden] { display: none; }` but bootstrap.min.css set `[hidden] { display: none !important; }` so we also need the `!important` here to be able to override the default hidden behavior on the sphinx rendered scikit-learn.org. See: https://github.com/scikit-learn/scikit-learn/issues/21755 */display: inline-block !important;position: relative;}#sk-container-id-1 div.sk-text-repr-fallback {display: none;}</style><div id=\"sk-container-id-1\" class=\"sk-top-container\"><div class=\"sk-text-repr-fallback\"><pre>LinearRegression()</pre><b>In a Jupyter environment, please rerun this cell to show the HTML representation or trust the notebook. <br />On GitHub, the HTML representation is unable to render, please try loading this page with nbviewer.org.</b></div><div class=\"sk-container\" hidden><div class=\"sk-item\"><div class=\"sk-estimator sk-toggleable\"><input class=\"sk-toggleable__control sk-hidden--visually\" id=\"sk-estimator-id-1\" type=\"checkbox\" checked><label for=\"sk-estimator-id-1\" class=\"sk-toggleable__label sk-toggleable__label-arrow\">LinearRegression</label><div class=\"sk-toggleable__content\"><pre>LinearRegression()</pre></div></div></div></div></div>"
      ],
      "text/plain": [
       "LinearRegression()"
      ]
     },
     "execution_count": 10,
     "metadata": {},
     "output_type": "execute_result"
    }
   ],
   "source": [
    "from sklearn.linear_model import LinearRegression\n",
    "employee_tenure = np.array([2, 3, 5, 4, 6, 2, 4]).reshape((-1, 1))\n",
    "job_satisfaction = np.array([7, 8, 6, 9, 5, 7, 6])\n",
    "lr = LinearRegression()\n",
    "lr.fit(employee_tenure, job_satisfaction)\n"
   ]
  },
  {
   "cell_type": "code",
   "execution_count": 11,
   "id": "aaa6afff-56b7-4b4e-9179-a28133d58c55",
   "metadata": {},
   "outputs": [
    {
     "data": {
      "text/plain": [
       "-0.4680851063829786"
      ]
     },
     "execution_count": 11,
     "metadata": {},
     "output_type": "execute_result"
    }
   ],
   "source": [
    "lr.coef_[0]"
   ]
  },
  {
   "cell_type": "code",
   "execution_count": 12,
   "id": "fce6836b-3972-4fc1-8ac0-471c584b1cd5",
   "metadata": {},
   "outputs": [
    {
     "data": {
      "text/plain": [
       "8.595744680851062"
      ]
     },
     "execution_count": 12,
     "metadata": {},
     "output_type": "execute_result"
    }
   ],
   "source": [
    "lr.intercept_"
   ]
  },
  {
   "cell_type": "code",
   "execution_count": 13,
   "id": "72244c5c-8739-4280-b8bc-d3da62bdf2eb",
   "metadata": {},
   "outputs": [],
   "source": [
    "new_employee_tenure = 5\n",
    "predicted_job_satisfaction = lr.intercept_ + lr.coef_[0] * new_employee_tenure"
   ]
  },
  {
   "cell_type": "code",
   "execution_count": 14,
   "id": "58f5685c-8838-43d4-a961-f98a11223a0e",
   "metadata": {},
   "outputs": [
    {
     "data": {
      "text/plain": [
       "6.255319148936169"
      ]
     },
     "execution_count": 14,
     "metadata": {},
     "output_type": "execute_result"
    }
   ],
   "source": [
    "predicted_job_satisfaction"
   ]
  },
  {
   "cell_type": "markdown",
   "id": "0137fcfb-8d11-4c47-8ade-a95525a5a669",
   "metadata": {},
   "source": [
    "Question 9:\n",
    "Scenario: A study is conducted to compare the effectiveness of two different medications. The recovery times of the patients in each group are as follows:\n",
    "   Medication A: [10, 12, 14, 11, 13]\n",
    "   Medication B: [15, 17, 16, 14, 18]\n",
    "   Perform an analysis of variance (ANOVA) to determine if there is a significant difference in the mean recovery times between the two medications.\n"
   ]
  },
  {
   "cell_type": "code",
   "execution_count": 15,
   "id": "935cd2e8-8bd5-4c0f-a8dc-cc08b629dc9b",
   "metadata": {},
   "outputs": [
    {
     "name": "stdout",
     "output_type": "stream",
     "text": [
      "16.0 0.003949772803445326\n",
      "reject null hypothesis\n"
     ]
    }
   ],
   "source": [
    "#null hypothesis = There is a significant difference in the mean recovery times between the two medications.\n",
    "# Alternate hypothesis = There is no significant difference in the mean recovery times between the two medications.\n",
    "a = [10, 12, 14, 11, 13]\n",
    "b = [15, 17, 16, 14, 18]\n",
    "f_statistic, p_value = st.f_oneway(a,b)\n",
    "print(f_statistic, p_value)\n",
    "\n",
    "if p_value < 0.05:\n",
    "    print(\"reject null hypothesis\")\n",
    "else:\n",
    "    print(\"fails to reject null hypothesis\")"
   ]
  },
  {
   "cell_type": "markdown",
   "id": "bd2d3054-6bb8-4234-9ef4-0cdbcabd52c1",
   "metadata": {},
   "source": [
    "Question 10:\n",
    "Scenario: A company wants to analyze customer feedback ratings on a scale of 1 to 10. The data collected is\n",
    "\n",
    " as follows:\n",
    "    [8, 9, 7, 6, 8, 10, 9, 8, 7, 8]\n",
    "    Calculate the 75th percentile of the feedback ratings.\n"
   ]
  },
  {
   "cell_type": "code",
   "execution_count": 16,
   "id": "f680e413-5eb2-41fd-84ea-c5e904603e30",
   "metadata": {},
   "outputs": [
    {
     "data": {
      "text/plain": [
       "8.75"
      ]
     },
     "execution_count": 16,
     "metadata": {},
     "output_type": "execute_result"
    }
   ],
   "source": [
    "A = [8, 9, 7, 6, 8, 10, 9, 8, 7, 8]\n",
    "Q3 = np.percentile(A, [75])\n",
    "Q3[0]"
   ]
  },
  {
   "cell_type": "markdown",
   "id": "ce2f38ca-1a12-4556-ae43-6a89f908fa88",
   "metadata": {},
   "source": [
    "Question 11:\n",
    "Scenario: A quality control department wants to test the weight consistency of a product. The weights of a sample of products are as follows:\n",
    "    [10.2, 9.8, 10.0, 10.5, 10.3, 10.1]\n",
    "    Perform a hypothesis test to determine if the mean weight differs significantly from 10 grams.\n"
   ]
  },
  {
   "cell_type": "code",
   "execution_count": 17,
   "id": "f7932af2-6973-4136-98f1-82a750673acf",
   "metadata": {},
   "outputs": [
    {
     "name": "stdout",
     "output_type": "stream",
     "text": [
      "T-Statistic:  1.5126584522688367\n",
      "P-Value:  0.19077595151110102\n",
      "fails to reject null hypothesis\n"
     ]
    }
   ],
   "source": [
    "# performing t test\n",
    "#null hypothesis = The mean weight being equal to 10 grams\n",
    "#alternative hypothesis = The mean weight differs significantly from 10 grams.\n",
    "A = [10.2, 9.8, 10.0, 10.5, 10.3, 10.1]\n",
    "t_test, p_value = st.ttest_1samp(A, 10)\n",
    "print(\"T-Statistic: \", t_test)\n",
    "print(\"P-Value: \", p_value)\n",
    "\n",
    "if p_value < 0.05:\n",
    "    print(\"reject null hypothesis\")\n",
    "else:\n",
    "    print(\"fails to reject null hypothesis\")"
   ]
  },
  {
   "cell_type": "markdown",
   "id": "acd8c1dd-82a9-4e55-a322-7e658478c3d5",
   "metadata": {},
   "source": [
    "Question 12:\n",
    "Scenario: A company wants to analyze the click-through rates of two different website designs. The number of clicks for each design is as follows:\n",
    "    Design A: [100, 120, 110, 90, 95]\n",
    "    Design B: [80, 85, 90, 95, 100]\n",
    "    Perform a chi-square test to determine if there is a significant difference in the click-through rates between the two designs.\n"
   ]
  },
  {
   "cell_type": "code",
   "execution_count": 18,
   "id": "fab4a932-9433-4f8e-b5ae-3e329f97395e",
   "metadata": {},
   "outputs": [
    {
     "name": "stdout",
     "output_type": "stream",
     "text": [
      "fails to reject null hypothesis\n"
     ]
    }
   ],
   "source": [
    "#null hypothesis = there is a significant difference in the click-through rates between the two designs.\n",
    "#alternative hypothesis = there is not any significant difference in the click-through rates between the two designs.\n",
    "A= [100, 120, 110, 90, 95]\n",
    "B= [80, 85, 90, 95, 100]\n",
    "observed_frequencies = np.array([A, B])\n",
    "chisquare_test, p_value = st.chisquare(observed_frequencies.T)\n",
    "# let significance value = 0.05\n",
    "significant_value = 0.05\n",
    "dof = len(B) - 1\n",
    "critical_value = st.chi2.ppf(1- significant_value, dof)\n",
    "\n",
    "if(chisquare_test.all() > critical_value):\n",
    "    print(\"reject null hypothesis\")\n",
    "else:\n",
    "    print(\"fails to reject null hypothesis\")"
   ]
  },
  {
   "cell_type": "markdown",
   "id": "dce8085d-7658-4fff-8c62-f2fd31fea881",
   "metadata": {},
   "source": [
    "Question 13:\n",
    "Scenario: A survey is conducted to measure customer satisfaction with a product on a scale of 1 to 10. The data collected is as follows:\n",
    "    [7, 9, 6, 8, 10, 7, 8, 9, 7, 8]\n",
    "    Calculate the 95% confidence interval for the population mean satisfaction score.\n"
   ]
  },
  {
   "cell_type": "code",
   "execution_count": 19,
   "id": "c911b6e2-7fd8-4fbe-a5b1-1de1d7335d17",
   "metadata": {},
   "outputs": [
    {
     "name": "stdout",
     "output_type": "stream",
     "text": [
      "Confidence Interval: (7.043561120599888, 8.756438879400113)\n"
     ]
    }
   ],
   "source": [
    "data = [7, 9, 6, 8, 10, 7, 8, 9, 7, 8]\n",
    "\n",
    "confidence_level = 0.95\n",
    "sample_mean = np.mean(data)\n",
    "sample_size = len(data)\n",
    "standard_error = st.sem(data)\n",
    "\n",
    "margin_of_error = st.t.ppf((1 + confidence_level) / 2, sample_size - 1) * standard_error\n",
    "confidence_interval = (sample_mean - margin_of_error, sample_mean + margin_of_error)\n",
    "\n",
    "print(\"Confidence Interval:\", confidence_interval)"
   ]
  },
  {
   "cell_type": "markdown",
   "id": "f9c6bed2-6503-494b-9c94-eb692b0c4365",
   "metadata": {},
   "source": [
    " Question 14:\n",
    " Scenario: A company wants to analyze the effect of temperature on product performance. The data collected is as follows:\n",
    "    Temperature (in degrees Celsius): [20, 22, 23, 19, 21]\n",
    "    Performance (on a scale of 1 to 10): [8, 7, 9, 6, 8]\n",
    "    Perform a simple linear regression to predict performance based on temperature.\n"
   ]
  },
  {
   "cell_type": "code",
   "execution_count": 20,
   "id": "a4586556-4cbf-4534-88db-72ef96307708",
   "metadata": {},
   "outputs": [
    {
     "data": {
      "text/html": [
       "<style>#sk-container-id-2 {color: black;background-color: white;}#sk-container-id-2 pre{padding: 0;}#sk-container-id-2 div.sk-toggleable {background-color: white;}#sk-container-id-2 label.sk-toggleable__label {cursor: pointer;display: block;width: 100%;margin-bottom: 0;padding: 0.3em;box-sizing: border-box;text-align: center;}#sk-container-id-2 label.sk-toggleable__label-arrow:before {content: \"▸\";float: left;margin-right: 0.25em;color: #696969;}#sk-container-id-2 label.sk-toggleable__label-arrow:hover:before {color: black;}#sk-container-id-2 div.sk-estimator:hover label.sk-toggleable__label-arrow:before {color: black;}#sk-container-id-2 div.sk-toggleable__content {max-height: 0;max-width: 0;overflow: hidden;text-align: left;background-color: #f0f8ff;}#sk-container-id-2 div.sk-toggleable__content pre {margin: 0.2em;color: black;border-radius: 0.25em;background-color: #f0f8ff;}#sk-container-id-2 input.sk-toggleable__control:checked~div.sk-toggleable__content {max-height: 200px;max-width: 100%;overflow: auto;}#sk-container-id-2 input.sk-toggleable__control:checked~label.sk-toggleable__label-arrow:before {content: \"▾\";}#sk-container-id-2 div.sk-estimator input.sk-toggleable__control:checked~label.sk-toggleable__label {background-color: #d4ebff;}#sk-container-id-2 div.sk-label input.sk-toggleable__control:checked~label.sk-toggleable__label {background-color: #d4ebff;}#sk-container-id-2 input.sk-hidden--visually {border: 0;clip: rect(1px 1px 1px 1px);clip: rect(1px, 1px, 1px, 1px);height: 1px;margin: -1px;overflow: hidden;padding: 0;position: absolute;width: 1px;}#sk-container-id-2 div.sk-estimator {font-family: monospace;background-color: #f0f8ff;border: 1px dotted black;border-radius: 0.25em;box-sizing: border-box;margin-bottom: 0.5em;}#sk-container-id-2 div.sk-estimator:hover {background-color: #d4ebff;}#sk-container-id-2 div.sk-parallel-item::after {content: \"\";width: 100%;border-bottom: 1px solid gray;flex-grow: 1;}#sk-container-id-2 div.sk-label:hover label.sk-toggleable__label {background-color: #d4ebff;}#sk-container-id-2 div.sk-serial::before {content: \"\";position: absolute;border-left: 1px solid gray;box-sizing: border-box;top: 0;bottom: 0;left: 50%;z-index: 0;}#sk-container-id-2 div.sk-serial {display: flex;flex-direction: column;align-items: center;background-color: white;padding-right: 0.2em;padding-left: 0.2em;position: relative;}#sk-container-id-2 div.sk-item {position: relative;z-index: 1;}#sk-container-id-2 div.sk-parallel {display: flex;align-items: stretch;justify-content: center;background-color: white;position: relative;}#sk-container-id-2 div.sk-item::before, #sk-container-id-2 div.sk-parallel-item::before {content: \"\";position: absolute;border-left: 1px solid gray;box-sizing: border-box;top: 0;bottom: 0;left: 50%;z-index: -1;}#sk-container-id-2 div.sk-parallel-item {display: flex;flex-direction: column;z-index: 1;position: relative;background-color: white;}#sk-container-id-2 div.sk-parallel-item:first-child::after {align-self: flex-end;width: 50%;}#sk-container-id-2 div.sk-parallel-item:last-child::after {align-self: flex-start;width: 50%;}#sk-container-id-2 div.sk-parallel-item:only-child::after {width: 0;}#sk-container-id-2 div.sk-dashed-wrapped {border: 1px dashed gray;margin: 0 0.4em 0.5em 0.4em;box-sizing: border-box;padding-bottom: 0.4em;background-color: white;}#sk-container-id-2 div.sk-label label {font-family: monospace;font-weight: bold;display: inline-block;line-height: 1.2em;}#sk-container-id-2 div.sk-label-container {text-align: center;}#sk-container-id-2 div.sk-container {/* jupyter's `normalize.less` sets `[hidden] { display: none; }` but bootstrap.min.css set `[hidden] { display: none !important; }` so we also need the `!important` here to be able to override the default hidden behavior on the sphinx rendered scikit-learn.org. See: https://github.com/scikit-learn/scikit-learn/issues/21755 */display: inline-block !important;position: relative;}#sk-container-id-2 div.sk-text-repr-fallback {display: none;}</style><div id=\"sk-container-id-2\" class=\"sk-top-container\"><div class=\"sk-text-repr-fallback\"><pre>LinearRegression()</pre><b>In a Jupyter environment, please rerun this cell to show the HTML representation or trust the notebook. <br />On GitHub, the HTML representation is unable to render, please try loading this page with nbviewer.org.</b></div><div class=\"sk-container\" hidden><div class=\"sk-item\"><div class=\"sk-estimator sk-toggleable\"><input class=\"sk-toggleable__control sk-hidden--visually\" id=\"sk-estimator-id-2\" type=\"checkbox\" checked><label for=\"sk-estimator-id-2\" class=\"sk-toggleable__label sk-toggleable__label-arrow\">LinearRegression</label><div class=\"sk-toggleable__content\"><pre>LinearRegression()</pre></div></div></div></div></div>"
      ],
      "text/plain": [
       "LinearRegression()"
      ]
     },
     "execution_count": 20,
     "metadata": {},
     "output_type": "execute_result"
    }
   ],
   "source": [
    "Temperature = np.array([20, 22, 23, 19, 21]).reshape((-1, 1))\n",
    "Performance = np.array([8, 7, 9, 6, 8])\n",
    "regressor = LinearRegression()\n",
    "regressor.fit(Temperature,Performance)"
   ]
  },
  {
   "cell_type": "code",
   "execution_count": 22,
   "id": "63bb4f20-2401-4864-8e0b-c217b713ee9f",
   "metadata": {},
   "outputs": [
    {
     "data": {
      "text/plain": [
       "(array([0.5]), -2.8999999999999986)"
      ]
     },
     "execution_count": 22,
     "metadata": {},
     "output_type": "execute_result"
    }
   ],
   "source": [
    "regressor.coef_ , regressor.intercept_"
   ]
  },
  {
   "cell_type": "code",
   "execution_count": 24,
   "id": "b529d1e6-9163-495e-b182-030deffedd92",
   "metadata": {},
   "outputs": [
    {
     "data": {
      "text/plain": [
       "9.599999999999998"
      ]
     },
     "execution_count": 24,
     "metadata": {},
     "output_type": "execute_result"
    }
   ],
   "source": [
    "new_temp = 25\n",
    "predicted_performance = regressor.intercept_ + regressor.coef_[0] * new_temp\n",
    "predicted_performance"
   ]
  },
  {
   "cell_type": "markdown",
   "id": "d7ffb688-7885-4472-a267-842f23adbacf",
   "metadata": {},
   "source": [
    "Question 15: Scenario: A study is conducted to compare the preferences of two groups of participants. The preferences are measured on a Likert scale from 1 to 5. The data collected is as follows:\n",
    "    Group A: [4, 3, 5, 2, 4]\n",
    "    Group B: [3, 2, 4, 3, 3]\n",
    "    Perform a Mann-Whitney U test to determine if there is a significant difference in the median preferences between the two groups.\n"
   ]
  },
  {
   "cell_type": "code",
   "execution_count": 26,
   "id": "b8c26339-1b48-4658-b904-e39708d72069",
   "metadata": {},
   "outputs": [
    {
     "name": "stdout",
     "output_type": "stream",
     "text": [
      "Mann-Whitney U Statistic:  17.0\n",
      "P-Value:  0.380836480306712\n"
     ]
    }
   ],
   "source": [
    "a = [4, 3, 5, 2, 4]\n",
    "b = [3, 2, 4, 3, 3]\n",
    "\n",
    "U_statistic, p_value = st.mannwhitneyu(a, b, alternative='two-sided')\n",
    "\n",
    "print(\"Mann-Whitney U Statistic: \", U_statistic)\n",
    "print(\"P-Value: \", p_value)"
   ]
  },
  {
   "cell_type": "markdown",
   "id": "e416b37c-0e00-4d00-b472-c71dbf0b9d76",
   "metadata": {},
   "source": [
    "Question 16: Scenario: A company wants to analyze the distribution of customer ages. The data collected is as follows:\n",
    "    [25, 30, 35, 40, 45, 50, 55, 60, 65, 70]\n",
    "    Calculate the interquartile range (IQR) of the ages.\n"
   ]
  },
  {
   "cell_type": "code",
   "execution_count": 27,
   "id": "bd118909-b271-4449-be09-1d615325d0e5",
   "metadata": {},
   "outputs": [
    {
     "data": {
      "text/plain": [
       "array([22.5])"
      ]
     },
     "execution_count": 27,
     "metadata": {},
     "output_type": "execute_result"
    }
   ],
   "source": [
    "a = [25, 30, 35, 40, 45, 50, 55, 60, 65, 70]\n",
    "Q1 = np.percentile(a, [25])\n",
    "Q3 = np.percentile(a, [75])\n",
    "IQR = Q3 - Q1\n",
    "IQR"
   ]
  },
  {
   "cell_type": "markdown",
   "id": "f091d141-8540-4361-a40c-91aa1228cc69",
   "metadata": {},
   "source": [
    "Question 17: Scenario: A study is conducted to compare the performance of three different machine learning algorithms. The accuracy scores for each algorithm are as follows:\n",
    "    Algorithm A: [0.85, 0.80, 0.82, 0.87, 0.83]\n",
    "    Algorithm B: [0.78, 0.82, 0.84, 0.80, 0.79]\n",
    "    Algorithm C: [0.90, 0.88, 0.89, 0.86, 0.87]\n",
    "    Perform a Kruskal-Wallis test to determine if there is a significant difference in the median accuracy scores between the algorithms.\n"
   ]
  },
  {
   "cell_type": "code",
   "execution_count": 29,
   "id": "0c1dacfe-f395-4777-890c-e1a659a0cafb",
   "metadata": {},
   "outputs": [
    {
     "name": "stdout",
     "output_type": "stream",
     "text": [
      "Kruskal-Wallis H Statistic:  9.696947935368053\n",
      "P-Value:  0.007840333026249539\n"
     ]
    }
   ],
   "source": [
    "a = [0.85, 0.80, 0.82, 0.87, 0.83]\n",
    "b = [0.78, 0.82, 0.84, 0.80, 0.79]\n",
    "c = [0.90, 0.88, 0.89, 0.86, 0.87]\n",
    "\n",
    "H_statistic, p_value = st.kruskal(a, b, c)\n",
    "\n",
    "print(\"Kruskal-Wallis H Statistic: \", H_statistic)\n",
    "print(\"P-Value: \", p_value)"
   ]
  },
  {
   "cell_type": "markdown",
   "id": "71423292-3bbc-44ee-95b0-b36f6d20216b",
   "metadata": {},
   "source": [
    "Question 18: Scenario: A company wants to analyze the effect of price on sales. The data collected is as follows:\n",
    "    Price (in dollars): [10, 15, 12, 8, 14]\n",
    "    Sales: [100, 80, 90, 110, 95]\n",
    "    Perform a simple linear regression to predict sales based on price.\n"
   ]
  },
  {
   "cell_type": "code",
   "execution_count": 31,
   "id": "b361177a-c6c4-42bd-8a97-54954540c7a8",
   "metadata": {},
   "outputs": [
    {
     "name": "stdout",
     "output_type": "stream",
     "text": [
      "136.3719512195122 -3.5060975609756095\n"
     ]
    },
    {
     "data": {
      "text/plain": [
       "90.79268292682927"
      ]
     },
     "execution_count": 31,
     "metadata": {},
     "output_type": "execute_result"
    }
   ],
   "source": [
    "price = np.array([10, 15, 12, 8, 14]).reshape((-1, 1))\n",
    "sales = np.array([100, 80, 90, 110, 95])\n",
    "\n",
    "model = LinearRegression().fit(price, sales)\n",
    "\n",
    "intercept = model.intercept_\n",
    "slope = model.coef_[0]\n",
    "\n",
    "print(intercept, slope)\n",
    "new_price = 13\n",
    "predicted_sales = model.intercept_ + model.coef_[0] * new_price\n",
    "predicted_sales"
   ]
  },
  {
   "cell_type": "markdown",
   "id": "0f9cac4a-f77f-456e-900e-7ef2ad386437",
   "metadata": {},
   "source": [
    "Question 19: Scenario: A survey is conducted to measure the satisfaction levels of customers with a new product. The data collected is as follows:\n",
    "    [7, 8, 9, 6, 8, 7, 9, 7, 8, 7]\n",
    "    Calculate the standard error of the mean satisfaction score.\n"
   ]
  },
  {
   "cell_type": "code",
   "execution_count": 33,
   "id": "0088c15d-0b0c-40d0-87b3-ac8f758dbdab",
   "metadata": {},
   "outputs": [
    {
     "name": "stdout",
     "output_type": "stream",
     "text": [
      "Standard Error of the Mean: 0.28982753492378877\n"
     ]
    }
   ],
   "source": [
    "data = [7, 8, 9, 6, 8, 7, 9, 7, 8, 7]\n",
    "\n",
    "sample_mean = np.mean(data)\n",
    "sample_size = len(data)\n",
    "sample_standard_deviation = np.std(data)\n",
    "\n",
    "standard_error = sample_standard_deviation / np.sqrt(sample_size)\n",
    "\n",
    "print(\"Standard Error of the Mean:\", standard_error)"
   ]
  },
  {
   "cell_type": "markdown",
   "id": "9b1ee2c8-5dfa-4fe9-9042-42c6d639474a",
   "metadata": {},
   "source": [
    "Question 20: Scenario A company wants to analyze the relationship between advertising expenditure and sales. The data collected is as follows:\n",
    "    Advertising Expenditure (in thousands): [10, 15, 12, 8, 14]\n",
    "    Sales (in thousands): [25, 30, 28, 20, 26]\n",
    "    Perform a multiple regression analysis to predict sales based on advertising expenditure.\n"
   ]
  },
  {
   "cell_type": "code",
   "execution_count": 35,
   "id": "d91b4c6b-8b44-4696-9be1-343be7023d29",
   "metadata": {},
   "outputs": [],
   "source": [
    "ad_expenditure = np.array([10, 15, 12, 8, 14]).reshape((-1, 1))\n",
    "sales = np.array([25, 30, 28, 20, 26])\n",
    "\n",
    "model = LinearRegression().fit(ad_expenditure, sales)"
   ]
  },
  {
   "cell_type": "code",
   "execution_count": 36,
   "id": "9b592422-7e5b-440e-8cdb-e59bdc37a623",
   "metadata": {},
   "outputs": [
    {
     "name": "stdout",
     "output_type": "stream",
     "text": [
      "Intercept: 12.20121951219512\n",
      "Slope: 1.152439024390244\n",
      "Predicted Sales: 27.182926829268293\n"
     ]
    }
   ],
   "source": [
    "intercept = model.intercept_\n",
    "slope = model.coef_[0]\n",
    "\n",
    "print(\"Intercept:\", intercept)\n",
    "print(\"Slope:\", slope)\n",
    "\n",
    "new_ad_expenditure = 13\n",
    "predicted_sales = intercept + slope * new_ad_expenditure\n",
    "\n",
    "print(\"Predicted Sales:\", predicted_sales)"
   ]
  },
  {
   "cell_type": "code",
   "execution_count": null,
   "id": "62ca2529-2680-4f86-b5ca-552a43a7a5d8",
   "metadata": {},
   "outputs": [],
   "source": []
  }
 ],
 "metadata": {
  "kernelspec": {
   "display_name": "Python 3 (ipykernel)",
   "language": "python",
   "name": "python3"
  },
  "language_info": {
   "codemirror_mode": {
    "name": "ipython",
    "version": 3
   },
   "file_extension": ".py",
   "mimetype": "text/x-python",
   "name": "python",
   "nbconvert_exporter": "python",
   "pygments_lexer": "ipython3",
   "version": "3.10.8"
  }
 },
 "nbformat": 4,
 "nbformat_minor": 5
}
